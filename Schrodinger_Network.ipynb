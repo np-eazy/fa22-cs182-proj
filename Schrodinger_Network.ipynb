{
  "nbformat": 4,
  "nbformat_minor": 0,
  "metadata": {
    "colab": {
      "provenance": [],
      "toc_visible": true
    },
    "kernelspec": {
      "name": "python3",
      "display_name": "Python 3"
    },
    "language_info": {
      "name": "python"
    },
    "gpuClass": "standard",
    "widgets": {
      "application/vnd.jupyter.widget-state+json": {
        "7a3c82ffd882485baac5301914989f65": {
          "model_module": "@jupyter-widgets/controls",
          "model_name": "HBoxModel",
          "model_module_version": "1.5.0",
          "state": {
            "_dom_classes": [],
            "_model_module": "@jupyter-widgets/controls",
            "_model_module_version": "1.5.0",
            "_model_name": "HBoxModel",
            "_view_count": null,
            "_view_module": "@jupyter-widgets/controls",
            "_view_module_version": "1.5.0",
            "_view_name": "HBoxView",
            "box_style": "",
            "children": [
              "IPY_MODEL_f347e4fe51354d3da642e8b18e7addfd",
              "IPY_MODEL_ec6a0560ea1d44b4aabf1c59fc0eb4f1",
              "IPY_MODEL_6f73ac27118a4db4bd00d9971e5f704c"
            ],
            "layout": "IPY_MODEL_a908749921a04e69a5bce2841a770ad2"
          }
        },
        "f347e4fe51354d3da642e8b18e7addfd": {
          "model_module": "@jupyter-widgets/controls",
          "model_name": "HTMLModel",
          "model_module_version": "1.5.0",
          "state": {
            "_dom_classes": [],
            "_model_module": "@jupyter-widgets/controls",
            "_model_module_version": "1.5.0",
            "_model_name": "HTMLModel",
            "_view_count": null,
            "_view_module": "@jupyter-widgets/controls",
            "_view_module_version": "1.5.0",
            "_view_name": "HTMLView",
            "description": "",
            "description_tooltip": null,
            "layout": "IPY_MODEL_a44df59ab14143ff96e0a44659b15cbd",
            "placeholder": "​",
            "style": "IPY_MODEL_088b5e5dc65f483db04f655e48e4e913",
            "value": "100%"
          }
        },
        "ec6a0560ea1d44b4aabf1c59fc0eb4f1": {
          "model_module": "@jupyter-widgets/controls",
          "model_name": "FloatProgressModel",
          "model_module_version": "1.5.0",
          "state": {
            "_dom_classes": [],
            "_model_module": "@jupyter-widgets/controls",
            "_model_module_version": "1.5.0",
            "_model_name": "FloatProgressModel",
            "_view_count": null,
            "_view_module": "@jupyter-widgets/controls",
            "_view_module_version": "1.5.0",
            "_view_name": "ProgressView",
            "bar_style": "success",
            "description": "",
            "description_tooltip": null,
            "layout": "IPY_MODEL_4c48224096f54a2c9f39b01f2a03eed9",
            "max": 2,
            "min": 0,
            "orientation": "horizontal",
            "style": "IPY_MODEL_841f5906aa81470998fee5473642071e",
            "value": 2
          }
        },
        "6f73ac27118a4db4bd00d9971e5f704c": {
          "model_module": "@jupyter-widgets/controls",
          "model_name": "HTMLModel",
          "model_module_version": "1.5.0",
          "state": {
            "_dom_classes": [],
            "_model_module": "@jupyter-widgets/controls",
            "_model_module_version": "1.5.0",
            "_model_name": "HTMLModel",
            "_view_count": null,
            "_view_module": "@jupyter-widgets/controls",
            "_view_module_version": "1.5.0",
            "_view_name": "HTMLView",
            "description": "",
            "description_tooltip": null,
            "layout": "IPY_MODEL_bc7b8416d8e748ec99a67406220cb066",
            "placeholder": "​",
            "style": "IPY_MODEL_9ac7a452a87c42a78a74cd153b58d77b",
            "value": " 2/2 [01:09&lt;00:00, 34.02s/it, best_val_loss=0.00236, val_loss=0.00236]"
          }
        },
        "a908749921a04e69a5bce2841a770ad2": {
          "model_module": "@jupyter-widgets/base",
          "model_name": "LayoutModel",
          "model_module_version": "1.2.0",
          "state": {
            "_model_module": "@jupyter-widgets/base",
            "_model_module_version": "1.2.0",
            "_model_name": "LayoutModel",
            "_view_count": null,
            "_view_module": "@jupyter-widgets/base",
            "_view_module_version": "1.2.0",
            "_view_name": "LayoutView",
            "align_content": null,
            "align_items": null,
            "align_self": null,
            "border": null,
            "bottom": null,
            "display": null,
            "flex": null,
            "flex_flow": null,
            "grid_area": null,
            "grid_auto_columns": null,
            "grid_auto_flow": null,
            "grid_auto_rows": null,
            "grid_column": null,
            "grid_gap": null,
            "grid_row": null,
            "grid_template_areas": null,
            "grid_template_columns": null,
            "grid_template_rows": null,
            "height": null,
            "justify_content": null,
            "justify_items": null,
            "left": null,
            "margin": null,
            "max_height": null,
            "max_width": null,
            "min_height": null,
            "min_width": null,
            "object_fit": null,
            "object_position": null,
            "order": null,
            "overflow": null,
            "overflow_x": null,
            "overflow_y": null,
            "padding": null,
            "right": null,
            "top": null,
            "visibility": null,
            "width": null
          }
        },
        "a44df59ab14143ff96e0a44659b15cbd": {
          "model_module": "@jupyter-widgets/base",
          "model_name": "LayoutModel",
          "model_module_version": "1.2.0",
          "state": {
            "_model_module": "@jupyter-widgets/base",
            "_model_module_version": "1.2.0",
            "_model_name": "LayoutModel",
            "_view_count": null,
            "_view_module": "@jupyter-widgets/base",
            "_view_module_version": "1.2.0",
            "_view_name": "LayoutView",
            "align_content": null,
            "align_items": null,
            "align_self": null,
            "border": null,
            "bottom": null,
            "display": null,
            "flex": null,
            "flex_flow": null,
            "grid_area": null,
            "grid_auto_columns": null,
            "grid_auto_flow": null,
            "grid_auto_rows": null,
            "grid_column": null,
            "grid_gap": null,
            "grid_row": null,
            "grid_template_areas": null,
            "grid_template_columns": null,
            "grid_template_rows": null,
            "height": null,
            "justify_content": null,
            "justify_items": null,
            "left": null,
            "margin": null,
            "max_height": null,
            "max_width": null,
            "min_height": null,
            "min_width": null,
            "object_fit": null,
            "object_position": null,
            "order": null,
            "overflow": null,
            "overflow_x": null,
            "overflow_y": null,
            "padding": null,
            "right": null,
            "top": null,
            "visibility": null,
            "width": null
          }
        },
        "088b5e5dc65f483db04f655e48e4e913": {
          "model_module": "@jupyter-widgets/controls",
          "model_name": "DescriptionStyleModel",
          "model_module_version": "1.5.0",
          "state": {
            "_model_module": "@jupyter-widgets/controls",
            "_model_module_version": "1.5.0",
            "_model_name": "DescriptionStyleModel",
            "_view_count": null,
            "_view_module": "@jupyter-widgets/base",
            "_view_module_version": "1.2.0",
            "_view_name": "StyleView",
            "description_width": ""
          }
        },
        "4c48224096f54a2c9f39b01f2a03eed9": {
          "model_module": "@jupyter-widgets/base",
          "model_name": "LayoutModel",
          "model_module_version": "1.2.0",
          "state": {
            "_model_module": "@jupyter-widgets/base",
            "_model_module_version": "1.2.0",
            "_model_name": "LayoutModel",
            "_view_count": null,
            "_view_module": "@jupyter-widgets/base",
            "_view_module_version": "1.2.0",
            "_view_name": "LayoutView",
            "align_content": null,
            "align_items": null,
            "align_self": null,
            "border": null,
            "bottom": null,
            "display": null,
            "flex": null,
            "flex_flow": null,
            "grid_area": null,
            "grid_auto_columns": null,
            "grid_auto_flow": null,
            "grid_auto_rows": null,
            "grid_column": null,
            "grid_gap": null,
            "grid_row": null,
            "grid_template_areas": null,
            "grid_template_columns": null,
            "grid_template_rows": null,
            "height": null,
            "justify_content": null,
            "justify_items": null,
            "left": null,
            "margin": null,
            "max_height": null,
            "max_width": null,
            "min_height": null,
            "min_width": null,
            "object_fit": null,
            "object_position": null,
            "order": null,
            "overflow": null,
            "overflow_x": null,
            "overflow_y": null,
            "padding": null,
            "right": null,
            "top": null,
            "visibility": null,
            "width": null
          }
        },
        "841f5906aa81470998fee5473642071e": {
          "model_module": "@jupyter-widgets/controls",
          "model_name": "ProgressStyleModel",
          "model_module_version": "1.5.0",
          "state": {
            "_model_module": "@jupyter-widgets/controls",
            "_model_module_version": "1.5.0",
            "_model_name": "ProgressStyleModel",
            "_view_count": null,
            "_view_module": "@jupyter-widgets/base",
            "_view_module_version": "1.2.0",
            "_view_name": "StyleView",
            "bar_color": null,
            "description_width": ""
          }
        },
        "bc7b8416d8e748ec99a67406220cb066": {
          "model_module": "@jupyter-widgets/base",
          "model_name": "LayoutModel",
          "model_module_version": "1.2.0",
          "state": {
            "_model_module": "@jupyter-widgets/base",
            "_model_module_version": "1.2.0",
            "_model_name": "LayoutModel",
            "_view_count": null,
            "_view_module": "@jupyter-widgets/base",
            "_view_module_version": "1.2.0",
            "_view_name": "LayoutView",
            "align_content": null,
            "align_items": null,
            "align_self": null,
            "border": null,
            "bottom": null,
            "display": null,
            "flex": null,
            "flex_flow": null,
            "grid_area": null,
            "grid_auto_columns": null,
            "grid_auto_flow": null,
            "grid_auto_rows": null,
            "grid_column": null,
            "grid_gap": null,
            "grid_row": null,
            "grid_template_areas": null,
            "grid_template_columns": null,
            "grid_template_rows": null,
            "height": null,
            "justify_content": null,
            "justify_items": null,
            "left": null,
            "margin": null,
            "max_height": null,
            "max_width": null,
            "min_height": null,
            "min_width": null,
            "object_fit": null,
            "object_position": null,
            "order": null,
            "overflow": null,
            "overflow_x": null,
            "overflow_y": null,
            "padding": null,
            "right": null,
            "top": null,
            "visibility": null,
            "width": null
          }
        },
        "9ac7a452a87c42a78a74cd153b58d77b": {
          "model_module": "@jupyter-widgets/controls",
          "model_name": "DescriptionStyleModel",
          "model_module_version": "1.5.0",
          "state": {
            "_model_module": "@jupyter-widgets/controls",
            "_model_module_version": "1.5.0",
            "_model_name": "DescriptionStyleModel",
            "_view_count": null,
            "_view_module": "@jupyter-widgets/base",
            "_view_module_version": "1.2.0",
            "_view_name": "StyleView",
            "description_width": ""
          }
        },
        "73064519d09146fb992610f03c26217f": {
          "model_module": "@jupyter-widgets/controls",
          "model_name": "HBoxModel",
          "model_module_version": "1.5.0",
          "state": {
            "_dom_classes": [],
            "_model_module": "@jupyter-widgets/controls",
            "_model_module_version": "1.5.0",
            "_model_name": "HBoxModel",
            "_view_count": null,
            "_view_module": "@jupyter-widgets/controls",
            "_view_module_version": "1.5.0",
            "_view_name": "HBoxView",
            "box_style": "",
            "children": [
              "IPY_MODEL_b636d41788ea4a9b9bad65b65aca158f",
              "IPY_MODEL_8373825dad49496a9ebde3e8a7d07adf",
              "IPY_MODEL_2862be53d99342e6b35d4a1ec6e963e8"
            ],
            "layout": "IPY_MODEL_8c1680ccd8444c8da735154aae7b0cf9"
          }
        },
        "b636d41788ea4a9b9bad65b65aca158f": {
          "model_module": "@jupyter-widgets/controls",
          "model_name": "HTMLModel",
          "model_module_version": "1.5.0",
          "state": {
            "_dom_classes": [],
            "_model_module": "@jupyter-widgets/controls",
            "_model_module_version": "1.5.0",
            "_model_name": "HTMLModel",
            "_view_count": null,
            "_view_module": "@jupyter-widgets/controls",
            "_view_module_version": "1.5.0",
            "_view_name": "HTMLView",
            "description": "",
            "description_tooltip": null,
            "layout": "IPY_MODEL_27bc0573f00243c2982aeb0cc0516f07",
            "placeholder": "​",
            "style": "IPY_MODEL_2d8647f3ad314a4fa867337dc411a878",
            "value": "100%"
          }
        },
        "8373825dad49496a9ebde3e8a7d07adf": {
          "model_module": "@jupyter-widgets/controls",
          "model_name": "FloatProgressModel",
          "model_module_version": "1.5.0",
          "state": {
            "_dom_classes": [],
            "_model_module": "@jupyter-widgets/controls",
            "_model_module_version": "1.5.0",
            "_model_name": "FloatProgressModel",
            "_view_count": null,
            "_view_module": "@jupyter-widgets/controls",
            "_view_module_version": "1.5.0",
            "_view_name": "ProgressView",
            "bar_style": "success",
            "description": "",
            "description_tooltip": null,
            "layout": "IPY_MODEL_1bf8b83f44f64a779bb2eb69f3887de2",
            "max": 2000,
            "min": 0,
            "orientation": "horizontal",
            "style": "IPY_MODEL_21435e1ee0f841c09511d0d7736539fa",
            "value": 2000
          }
        },
        "2862be53d99342e6b35d4a1ec6e963e8": {
          "model_module": "@jupyter-widgets/controls",
          "model_name": "HTMLModel",
          "model_module_version": "1.5.0",
          "state": {
            "_dom_classes": [],
            "_model_module": "@jupyter-widgets/controls",
            "_model_module_version": "1.5.0",
            "_model_name": "HTMLModel",
            "_view_count": null,
            "_view_module": "@jupyter-widgets/controls",
            "_view_module_version": "1.5.0",
            "_view_name": "HTMLView",
            "description": "",
            "description_tooltip": null,
            "layout": "IPY_MODEL_ef2381cf79b242d2a04f2ed1c4f8a18c",
            "placeholder": "​",
            "style": "IPY_MODEL_a9562d20da4f4ec59897b5ab6c718d58",
            "value": " 2000/2000 [00:35&lt;00:00, 71.54it/s, loss=0.00236]"
          }
        },
        "8c1680ccd8444c8da735154aae7b0cf9": {
          "model_module": "@jupyter-widgets/base",
          "model_name": "LayoutModel",
          "model_module_version": "1.2.0",
          "state": {
            "_model_module": "@jupyter-widgets/base",
            "_model_module_version": "1.2.0",
            "_model_name": "LayoutModel",
            "_view_count": null,
            "_view_module": "@jupyter-widgets/base",
            "_view_module_version": "1.2.0",
            "_view_name": "LayoutView",
            "align_content": null,
            "align_items": null,
            "align_self": null,
            "border": null,
            "bottom": null,
            "display": null,
            "flex": null,
            "flex_flow": null,
            "grid_area": null,
            "grid_auto_columns": null,
            "grid_auto_flow": null,
            "grid_auto_rows": null,
            "grid_column": null,
            "grid_gap": null,
            "grid_row": null,
            "grid_template_areas": null,
            "grid_template_columns": null,
            "grid_template_rows": null,
            "height": null,
            "justify_content": null,
            "justify_items": null,
            "left": null,
            "margin": null,
            "max_height": null,
            "max_width": null,
            "min_height": null,
            "min_width": null,
            "object_fit": null,
            "object_position": null,
            "order": null,
            "overflow": null,
            "overflow_x": null,
            "overflow_y": null,
            "padding": null,
            "right": null,
            "top": null,
            "visibility": null,
            "width": null
          }
        },
        "27bc0573f00243c2982aeb0cc0516f07": {
          "model_module": "@jupyter-widgets/base",
          "model_name": "LayoutModel",
          "model_module_version": "1.2.0",
          "state": {
            "_model_module": "@jupyter-widgets/base",
            "_model_module_version": "1.2.0",
            "_model_name": "LayoutModel",
            "_view_count": null,
            "_view_module": "@jupyter-widgets/base",
            "_view_module_version": "1.2.0",
            "_view_name": "LayoutView",
            "align_content": null,
            "align_items": null,
            "align_self": null,
            "border": null,
            "bottom": null,
            "display": null,
            "flex": null,
            "flex_flow": null,
            "grid_area": null,
            "grid_auto_columns": null,
            "grid_auto_flow": null,
            "grid_auto_rows": null,
            "grid_column": null,
            "grid_gap": null,
            "grid_row": null,
            "grid_template_areas": null,
            "grid_template_columns": null,
            "grid_template_rows": null,
            "height": null,
            "justify_content": null,
            "justify_items": null,
            "left": null,
            "margin": null,
            "max_height": null,
            "max_width": null,
            "min_height": null,
            "min_width": null,
            "object_fit": null,
            "object_position": null,
            "order": null,
            "overflow": null,
            "overflow_x": null,
            "overflow_y": null,
            "padding": null,
            "right": null,
            "top": null,
            "visibility": null,
            "width": null
          }
        },
        "2d8647f3ad314a4fa867337dc411a878": {
          "model_module": "@jupyter-widgets/controls",
          "model_name": "DescriptionStyleModel",
          "model_module_version": "1.5.0",
          "state": {
            "_model_module": "@jupyter-widgets/controls",
            "_model_module_version": "1.5.0",
            "_model_name": "DescriptionStyleModel",
            "_view_count": null,
            "_view_module": "@jupyter-widgets/base",
            "_view_module_version": "1.2.0",
            "_view_name": "StyleView",
            "description_width": ""
          }
        },
        "1bf8b83f44f64a779bb2eb69f3887de2": {
          "model_module": "@jupyter-widgets/base",
          "model_name": "LayoutModel",
          "model_module_version": "1.2.0",
          "state": {
            "_model_module": "@jupyter-widgets/base",
            "_model_module_version": "1.2.0",
            "_model_name": "LayoutModel",
            "_view_count": null,
            "_view_module": "@jupyter-widgets/base",
            "_view_module_version": "1.2.0",
            "_view_name": "LayoutView",
            "align_content": null,
            "align_items": null,
            "align_self": null,
            "border": null,
            "bottom": null,
            "display": null,
            "flex": null,
            "flex_flow": null,
            "grid_area": null,
            "grid_auto_columns": null,
            "grid_auto_flow": null,
            "grid_auto_rows": null,
            "grid_column": null,
            "grid_gap": null,
            "grid_row": null,
            "grid_template_areas": null,
            "grid_template_columns": null,
            "grid_template_rows": null,
            "height": null,
            "justify_content": null,
            "justify_items": null,
            "left": null,
            "margin": null,
            "max_height": null,
            "max_width": null,
            "min_height": null,
            "min_width": null,
            "object_fit": null,
            "object_position": null,
            "order": null,
            "overflow": null,
            "overflow_x": null,
            "overflow_y": null,
            "padding": null,
            "right": null,
            "top": null,
            "visibility": null,
            "width": null
          }
        },
        "21435e1ee0f841c09511d0d7736539fa": {
          "model_module": "@jupyter-widgets/controls",
          "model_name": "ProgressStyleModel",
          "model_module_version": "1.5.0",
          "state": {
            "_model_module": "@jupyter-widgets/controls",
            "_model_module_version": "1.5.0",
            "_model_name": "ProgressStyleModel",
            "_view_count": null,
            "_view_module": "@jupyter-widgets/base",
            "_view_module_version": "1.2.0",
            "_view_name": "StyleView",
            "bar_color": null,
            "description_width": ""
          }
        },
        "ef2381cf79b242d2a04f2ed1c4f8a18c": {
          "model_module": "@jupyter-widgets/base",
          "model_name": "LayoutModel",
          "model_module_version": "1.2.0",
          "state": {
            "_model_module": "@jupyter-widgets/base",
            "_model_module_version": "1.2.0",
            "_model_name": "LayoutModel",
            "_view_count": null,
            "_view_module": "@jupyter-widgets/base",
            "_view_module_version": "1.2.0",
            "_view_name": "LayoutView",
            "align_content": null,
            "align_items": null,
            "align_self": null,
            "border": null,
            "bottom": null,
            "display": null,
            "flex": null,
            "flex_flow": null,
            "grid_area": null,
            "grid_auto_columns": null,
            "grid_auto_flow": null,
            "grid_auto_rows": null,
            "grid_column": null,
            "grid_gap": null,
            "grid_row": null,
            "grid_template_areas": null,
            "grid_template_columns": null,
            "grid_template_rows": null,
            "height": null,
            "justify_content": null,
            "justify_items": null,
            "left": null,
            "margin": null,
            "max_height": null,
            "max_width": null,
            "min_height": null,
            "min_width": null,
            "object_fit": null,
            "object_position": null,
            "order": null,
            "overflow": null,
            "overflow_x": null,
            "overflow_y": null,
            "padding": null,
            "right": null,
            "top": null,
            "visibility": null,
            "width": null
          }
        },
        "a9562d20da4f4ec59897b5ab6c718d58": {
          "model_module": "@jupyter-widgets/controls",
          "model_name": "DescriptionStyleModel",
          "model_module_version": "1.5.0",
          "state": {
            "_model_module": "@jupyter-widgets/controls",
            "_model_module_version": "1.5.0",
            "_model_name": "DescriptionStyleModel",
            "_view_count": null,
            "_view_module": "@jupyter-widgets/base",
            "_view_module_version": "1.2.0",
            "_view_name": "StyleView",
            "description_width": ""
          }
        },
        "8f0d3742c99d4a098d3c3ef04a4a8fbd": {
          "model_module": "@jupyter-widgets/controls",
          "model_name": "HBoxModel",
          "model_module_version": "1.5.0",
          "state": {
            "_dom_classes": [],
            "_model_module": "@jupyter-widgets/controls",
            "_model_module_version": "1.5.0",
            "_model_name": "HBoxModel",
            "_view_count": null,
            "_view_module": "@jupyter-widgets/controls",
            "_view_module_version": "1.5.0",
            "_view_name": "HBoxView",
            "box_style": "",
            "children": [
              "IPY_MODEL_3d8a6ecf0ce24fc4b312aed4e7f7d096",
              "IPY_MODEL_fd3958a0b36e42d78775cb3ac5c3d35a",
              "IPY_MODEL_af325f55a2c44f1c8b1c42f1ba0e4103"
            ],
            "layout": "IPY_MODEL_423d4ad0a2064c7fbda152887c1b6624"
          }
        },
        "3d8a6ecf0ce24fc4b312aed4e7f7d096": {
          "model_module": "@jupyter-widgets/controls",
          "model_name": "HTMLModel",
          "model_module_version": "1.5.0",
          "state": {
            "_dom_classes": [],
            "_model_module": "@jupyter-widgets/controls",
            "_model_module_version": "1.5.0",
            "_model_name": "HTMLModel",
            "_view_count": null,
            "_view_module": "@jupyter-widgets/controls",
            "_view_module_version": "1.5.0",
            "_view_name": "HTMLView",
            "description": "",
            "description_tooltip": null,
            "layout": "IPY_MODEL_3fb38d113253450686f8f621844c8790",
            "placeholder": "​",
            "style": "IPY_MODEL_40d2981e17cb456f9ca83b78481dddf8",
            "value": "100%"
          }
        },
        "fd3958a0b36e42d78775cb3ac5c3d35a": {
          "model_module": "@jupyter-widgets/controls",
          "model_name": "FloatProgressModel",
          "model_module_version": "1.5.0",
          "state": {
            "_dom_classes": [],
            "_model_module": "@jupyter-widgets/controls",
            "_model_module_version": "1.5.0",
            "_model_name": "FloatProgressModel",
            "_view_count": null,
            "_view_module": "@jupyter-widgets/controls",
            "_view_module_version": "1.5.0",
            "_view_name": "ProgressView",
            "bar_style": "success",
            "description": "",
            "description_tooltip": null,
            "layout": "IPY_MODEL_d4548b9786a74389934eb6ab818074aa",
            "max": 2000,
            "min": 0,
            "orientation": "horizontal",
            "style": "IPY_MODEL_671a73ddcd404cc1bd68b5045a7ff7d7",
            "value": 2000
          }
        },
        "af325f55a2c44f1c8b1c42f1ba0e4103": {
          "model_module": "@jupyter-widgets/controls",
          "model_name": "HTMLModel",
          "model_module_version": "1.5.0",
          "state": {
            "_dom_classes": [],
            "_model_module": "@jupyter-widgets/controls",
            "_model_module_version": "1.5.0",
            "_model_name": "HTMLModel",
            "_view_count": null,
            "_view_module": "@jupyter-widgets/controls",
            "_view_module_version": "1.5.0",
            "_view_name": "HTMLView",
            "description": "",
            "description_tooltip": null,
            "layout": "IPY_MODEL_8e884c77ac97494fa3634d635e005992",
            "placeholder": "​",
            "style": "IPY_MODEL_7e3b490a88df4b3fb3e965bffd141aad",
            "value": " 2000/2000 [00:29&lt;00:00, 56.41it/s, loss=0.00236]"
          }
        },
        "423d4ad0a2064c7fbda152887c1b6624": {
          "model_module": "@jupyter-widgets/base",
          "model_name": "LayoutModel",
          "model_module_version": "1.2.0",
          "state": {
            "_model_module": "@jupyter-widgets/base",
            "_model_module_version": "1.2.0",
            "_model_name": "LayoutModel",
            "_view_count": null,
            "_view_module": "@jupyter-widgets/base",
            "_view_module_version": "1.2.0",
            "_view_name": "LayoutView",
            "align_content": null,
            "align_items": null,
            "align_self": null,
            "border": null,
            "bottom": null,
            "display": null,
            "flex": null,
            "flex_flow": null,
            "grid_area": null,
            "grid_auto_columns": null,
            "grid_auto_flow": null,
            "grid_auto_rows": null,
            "grid_column": null,
            "grid_gap": null,
            "grid_row": null,
            "grid_template_areas": null,
            "grid_template_columns": null,
            "grid_template_rows": null,
            "height": null,
            "justify_content": null,
            "justify_items": null,
            "left": null,
            "margin": null,
            "max_height": null,
            "max_width": null,
            "min_height": null,
            "min_width": null,
            "object_fit": null,
            "object_position": null,
            "order": null,
            "overflow": null,
            "overflow_x": null,
            "overflow_y": null,
            "padding": null,
            "right": null,
            "top": null,
            "visibility": null,
            "width": null
          }
        },
        "3fb38d113253450686f8f621844c8790": {
          "model_module": "@jupyter-widgets/base",
          "model_name": "LayoutModel",
          "model_module_version": "1.2.0",
          "state": {
            "_model_module": "@jupyter-widgets/base",
            "_model_module_version": "1.2.0",
            "_model_name": "LayoutModel",
            "_view_count": null,
            "_view_module": "@jupyter-widgets/base",
            "_view_module_version": "1.2.0",
            "_view_name": "LayoutView",
            "align_content": null,
            "align_items": null,
            "align_self": null,
            "border": null,
            "bottom": null,
            "display": null,
            "flex": null,
            "flex_flow": null,
            "grid_area": null,
            "grid_auto_columns": null,
            "grid_auto_flow": null,
            "grid_auto_rows": null,
            "grid_column": null,
            "grid_gap": null,
            "grid_row": null,
            "grid_template_areas": null,
            "grid_template_columns": null,
            "grid_template_rows": null,
            "height": null,
            "justify_content": null,
            "justify_items": null,
            "left": null,
            "margin": null,
            "max_height": null,
            "max_width": null,
            "min_height": null,
            "min_width": null,
            "object_fit": null,
            "object_position": null,
            "order": null,
            "overflow": null,
            "overflow_x": null,
            "overflow_y": null,
            "padding": null,
            "right": null,
            "top": null,
            "visibility": null,
            "width": null
          }
        },
        "40d2981e17cb456f9ca83b78481dddf8": {
          "model_module": "@jupyter-widgets/controls",
          "model_name": "DescriptionStyleModel",
          "model_module_version": "1.5.0",
          "state": {
            "_model_module": "@jupyter-widgets/controls",
            "_model_module_version": "1.5.0",
            "_model_name": "DescriptionStyleModel",
            "_view_count": null,
            "_view_module": "@jupyter-widgets/base",
            "_view_module_version": "1.2.0",
            "_view_name": "StyleView",
            "description_width": ""
          }
        },
        "d4548b9786a74389934eb6ab818074aa": {
          "model_module": "@jupyter-widgets/base",
          "model_name": "LayoutModel",
          "model_module_version": "1.2.0",
          "state": {
            "_model_module": "@jupyter-widgets/base",
            "_model_module_version": "1.2.0",
            "_model_name": "LayoutModel",
            "_view_count": null,
            "_view_module": "@jupyter-widgets/base",
            "_view_module_version": "1.2.0",
            "_view_name": "LayoutView",
            "align_content": null,
            "align_items": null,
            "align_self": null,
            "border": null,
            "bottom": null,
            "display": null,
            "flex": null,
            "flex_flow": null,
            "grid_area": null,
            "grid_auto_columns": null,
            "grid_auto_flow": null,
            "grid_auto_rows": null,
            "grid_column": null,
            "grid_gap": null,
            "grid_row": null,
            "grid_template_areas": null,
            "grid_template_columns": null,
            "grid_template_rows": null,
            "height": null,
            "justify_content": null,
            "justify_items": null,
            "left": null,
            "margin": null,
            "max_height": null,
            "max_width": null,
            "min_height": null,
            "min_width": null,
            "object_fit": null,
            "object_position": null,
            "order": null,
            "overflow": null,
            "overflow_x": null,
            "overflow_y": null,
            "padding": null,
            "right": null,
            "top": null,
            "visibility": null,
            "width": null
          }
        },
        "671a73ddcd404cc1bd68b5045a7ff7d7": {
          "model_module": "@jupyter-widgets/controls",
          "model_name": "ProgressStyleModel",
          "model_module_version": "1.5.0",
          "state": {
            "_model_module": "@jupyter-widgets/controls",
            "_model_module_version": "1.5.0",
            "_model_name": "ProgressStyleModel",
            "_view_count": null,
            "_view_module": "@jupyter-widgets/base",
            "_view_module_version": "1.2.0",
            "_view_name": "StyleView",
            "bar_color": null,
            "description_width": ""
          }
        },
        "8e884c77ac97494fa3634d635e005992": {
          "model_module": "@jupyter-widgets/base",
          "model_name": "LayoutModel",
          "model_module_version": "1.2.0",
          "state": {
            "_model_module": "@jupyter-widgets/base",
            "_model_module_version": "1.2.0",
            "_model_name": "LayoutModel",
            "_view_count": null,
            "_view_module": "@jupyter-widgets/base",
            "_view_module_version": "1.2.0",
            "_view_name": "LayoutView",
            "align_content": null,
            "align_items": null,
            "align_self": null,
            "border": null,
            "bottom": null,
            "display": null,
            "flex": null,
            "flex_flow": null,
            "grid_area": null,
            "grid_auto_columns": null,
            "grid_auto_flow": null,
            "grid_auto_rows": null,
            "grid_column": null,
            "grid_gap": null,
            "grid_row": null,
            "grid_template_areas": null,
            "grid_template_columns": null,
            "grid_template_rows": null,
            "height": null,
            "justify_content": null,
            "justify_items": null,
            "left": null,
            "margin": null,
            "max_height": null,
            "max_width": null,
            "min_height": null,
            "min_width": null,
            "object_fit": null,
            "object_position": null,
            "order": null,
            "overflow": null,
            "overflow_x": null,
            "overflow_y": null,
            "padding": null,
            "right": null,
            "top": null,
            "visibility": null,
            "width": null
          }
        },
        "7e3b490a88df4b3fb3e965bffd141aad": {
          "model_module": "@jupyter-widgets/controls",
          "model_name": "DescriptionStyleModel",
          "model_module_version": "1.5.0",
          "state": {
            "_model_module": "@jupyter-widgets/controls",
            "_model_module_version": "1.5.0",
            "_model_name": "DescriptionStyleModel",
            "_view_count": null,
            "_view_module": "@jupyter-widgets/base",
            "_view_module_version": "1.2.0",
            "_view_name": "StyleView",
            "description_width": ""
          }
        }
      }
    }
  },
  "cells": [
    {
      "cell_type": "code",
      "source": [
        "!pip install einops"
      ],
      "metadata": {
        "colab": {
          "base_uri": "https://localhost:8080/"
        },
        "id": "QeQSRDd-j-_c",
        "outputId": "06f30d26-a7d3-4406-bf64-c665d0195767"
      },
      "execution_count": null,
      "outputs": [
        {
          "output_type": "stream",
          "name": "stdout",
          "text": [
            "Looking in indexes: https://pypi.org/simple, https://us-python.pkg.dev/colab-wheels/public/simple/\n",
            "Collecting einops\n",
            "  Downloading einops-0.6.0-py3-none-any.whl (41 kB)\n",
            "\u001b[K     |████████████████████████████████| 41 kB 98 kB/s \n",
            "\u001b[?25hInstalling collected packages: einops\n",
            "Successfully installed einops-0.6.0\n"
          ]
        }
      ]
    },
    {
      "cell_type": "code",
      "execution_count": null,
      "metadata": {
        "id": "FPN_u-qeYyiA",
        "colab": {
          "base_uri": "https://localhost:8080/"
        },
        "outputId": "0e36493f-53df-4aed-a951-a043ff905aa6"
      },
      "outputs": [
        {
          "output_type": "stream",
          "name": "stdout",
          "text": [
            "Mounted at /content/drive/\n",
            "[Errno 2] No such file or directory: '/content/drive/MyDrive/2022-23/CS 182/Project'\n",
            "/content\n",
            "/content/drive/MyDrive/182/fa22-cs182-proj\n",
            "[Errno 2] No such file or directory: '/content/drive/MyDrive/fa22-cs182-proj'\n",
            "/content/drive/MyDrive/182/fa22-cs182-proj\n",
            "[Errno 2] No such file or directory: '/content/drive/MyDrive/fa22-cs182-proj'\n",
            "/content/drive/MyDrive/182/fa22-cs182-proj\n"
          ]
        }
      ],
      "source": [
        "from google.colab import drive\n",
        "drive.mount('/content/drive/')\n",
        "# The following code ensures that all of the project members are able to mount the notebook to their specific drive and retrieve any directory-specific data.\n",
        "\n",
        "# Calvin's directory\n",
        "# %cd /content/drive/MyDrive/2022-23/CS 182/Project \n",
        "# Alec's directory\n",
        "# %cd /content/drive/MyDrive/182/fa22-cs182-proj\n",
        "# Anthony's directory\n",
        "# %cd /content/drive/MyDrive/fa22-cs182-proj \n",
        "# Joey's directory \n",
        "# %cd /content/drive/MyDrive/fa22-cs182-proj \n",
        "\n",
        "%cd /content/drive/MyDrive # Comment out if you are one of the project members, leave it in if you are staff"
      ]
    },
    {
      "cell_type": "code",
      "source": [
        "# To get the data from the other notebook, copy the data folder into your drive\n",
        "import numpy as np\n",
        "from matplotlib import pyplot as plt\n",
        "import torch\n",
        "import torch.nn as nn\n",
        "import torch.nn.functional as F\n",
        "import torch.optim as optim\n",
        "\n",
        "from tqdm.notebook import trange, tqdm\n",
        "\n",
        "import einops\n",
        "import pickle\n",
        "import os\n",
        "\n",
        "torch_device = 'cuda' if torch.cuda.is_available() else 'cpu'\n",
        "root_folder = colab_root_folder = os.getcwd()"
      ],
      "metadata": {
        "id": "S_AekrCkYzI9"
      },
      "execution_count": null,
      "outputs": []
    },
    {
      "cell_type": "code",
      "source": [
        "# Deprecated\n",
        "class SchrodingerModule(nn.Module):\n",
        "  def __init__(self, props, encoder=None, decoder=None):\n",
        "    self.embedding_dim = props.get(\"bottleneck_dim\")\n",
        "    self.timestep_window = props.get(\"timestep_window\")\n",
        "    self.inner_dim = self.embedding_dim * self.timestep_window\n",
        "\n",
        "    self.encoder = encoder\n",
        "    self.decoder = decoder\n",
        "\n",
        "    if encoder is None:\n",
        "      self.encoder = nn.Sequential(\n",
        "            nn.Conv2d(2, 64, 3),\n",
        "            nn.ReLU(),\n",
        "            nn.MaxPool2d(2, 2),\n",
        "            nn.Conv2d(64, 128, 3),\n",
        "            nn.ReLU(),\n",
        "            nn.MaxPool2d(2, 2),\n",
        "        )\n",
        "    self.self_attn = nn.MultiHeadAttention(128, 8)\n",
        "\n",
        "    \n",
        "  \n",
        "  # X shape: 3 window timesteps * D \n",
        "  def forward(self, x):\n",
        "    batch_size = x.shape[0]\n",
        "    sequence_length = x.shape[1]\n",
        "    # Make sure X is the right set of sliding window dimensions\n",
        "\n",
        "    # 1. Feed X timestep-wise through the embedding layer\n",
        "\n",
        "    x = self.encoder(x)\n",
        "\n",
        "    # 2. Flatten X before feeding into potential and kinetic layers.\n",
        "\n",
        "    x = x.view(batch_size, sequence_length, -1)\n",
        "\n",
        "    attn_weights = self.attn_weights(x, x, x)\n",
        "\n",
        "    x = x * attn_weights\n",
        "    x = self.decoder(x)\n",
        "    return x\n",
        "\n",
        "    # 3. Generate a Potential Matrix by outer-producting the input with itself, using\n",
        "    # e^kx + e^ky instead of x * y to take products. Set k to wherever exploding gradients\n",
        "    # are not a problem.\n",
        "    # Fallback: if this is not possible, start with a linear and non-linear layer. We\n",
        "    # want to design the potential matrix in a way that treats wavefunction-like data very\n",
        "    # differently from non-wavefunction-like data, like potential tokens.\n",
        "    # It would also be great if we could add some RNN-ish mechanism to hold onto potential tokens.\n",
        "    potential_matrix = None\n",
        "\n",
        "    # 4. Potential layer: Feed flattened embedding into the position linear and nonlinear layers.\n",
        "    # Feed that into the potential matrix and the potential nonlinearity.\n",
        "\n",
        "    # 5. Kinetic layer: Feed embedding into kinetic linear and nonlinear layers.\n",
        "    # Feed into kinetic linear layer again.\n",
        "\n",
        "    # 6. Add potential and kinetic layers, and add back to original embedding.\n",
        "\n",
        "    # 7. Take that sum through the decoder for the output. \n",
        "\n",
        "    # 8. The network learns to generate one timestep, or also re-generate the old timesteps\n",
        "    # in a shifted set of dimensions for good measure. It can learn to generate anywhere\n",
        "    # from just the next timestep to the next same-sized window for good reinforcement;\n",
        "    # We should start with the latter option so everything is a square matrix inside, before\n",
        "    # worrying about anything else.\n",
        "\n",
        "    # To speed up computations when going from sketch to attention modules, we can\n",
        "    # establish partial decoders whose inner decoder takes us from sketch embedding directly into\n",
        "    # attention embedding, and then having a designated outer decoder take us from that\n",
        "    # back to real space. This shouldn't be worried about right now though.\n",
        "    return x\n",
        "\n",
        "  def backward_pass(self, grad):\n",
        "    return None\n"
      ],
      "metadata": {
        "id": "nGiCMT4AeiuM"
      },
      "execution_count": null,
      "outputs": []
    },
    {
      "cell_type": "code",
      "source": [
        "# Deprecated\n",
        "class AttentionModule:\n",
        "  def __init__(self, props, sketch_modules):\n",
        "    self.embedding_dim = props.get(\"bottleneck_dim\")\n",
        "    self.timestep_window = props.get(\"timestep_window\")\n",
        "    self.inner_dim = self.embedding_dim * self.timestep_window\n",
        "\n",
        "    self.sketch_modules = sketch_modules\n",
        "    self.heads = props.get(\"heads\")\n",
        "    self.la = props.get(\"lambda\")\n",
        "\n",
        "    # TODO: Initialize with Xavier or smth instead of with zeros\n",
        "    self.value_weights = np.eye(self.embedding_dim) + self.la * np.zeros((self.embedding_dim, self.embedding_dim))\n",
        "    self.value_weights = np.zeros((self.embedding_dim, self.embedding_dim))\n",
        "    self.query_weights = np.zeros((self.embedding_dim, self.embedding_dim))\n",
        "\n",
        "\n",
        "  def forward_pass(self, x):\n",
        "    # Pass sketches through the encoder and do self-attention. Attend to the sequence of sketch modules,\n",
        "    # not the sequence of time. The intuition is that each sketch either shows up a lot or a little in\n",
        "    # the new encoding, and from this information compression we can learn to\n",
        "    pass"
      ],
      "metadata": {
        "id": "41CUReKWeovD"
      },
      "execution_count": null,
      "outputs": []
    },
    {
      "cell_type": "markdown",
      "source": [
        "# Convolutional Autoencoder"
      ],
      "metadata": {
        "id": "HKdHtWjzQaX4"
      }
    },
    {
      "cell_type": "code",
      "source": [
        "class SchrodingerModule(nn.Module):\n",
        "  def __init__(self):\n",
        "    super(SchrodingerModule, self).__init__()\n",
        "\n",
        "    self.encoder = nn.Sequential(\n",
        "        nn.Conv2d(2, 64, 3, padding=1),\n",
        "        nn.ReLU(),\n",
        "        nn.MaxPool2d(2, 2),\n",
        "        nn.Conv2d(64, 128, 3, padding=1),\n",
        "        nn.ReLU(),\n",
        "        nn.MaxPool2d(2, 2),\n",
        "    )\n",
        "    self.linear = nn.Sequential(\n",
        "        nn.Linear(8 * 8 * 128, 8 * 128),\n",
        "        nn.Linear(8 * 128, 256),\n",
        "    )\n",
        "    self.self_attn = nn.MultiheadAttention(256, 2)\n",
        "    self.reverse_linear = nn.Sequential(\n",
        "        nn.Linear(256, 8 * 128),\n",
        "        nn.Linear(8 * 128, 8 * 8 * 128),\n",
        "    )\n",
        "    self.decoder = nn.Sequential(\n",
        "        nn.ConvTranspose2d(128, 64, 3, padding=1),\n",
        "        nn.ReLU(),\n",
        "        nn.Upsample(scale_factor=2),\n",
        "        nn.ConvTranspose2d(64, 2, 3, padding=1),\n",
        "        nn.ReLU(),\n",
        "        nn.Upsample(scale_factor=2)\n",
        "    )\n",
        "    \n",
        "  \n",
        "  # X shape: 3 window timesteps * D \n",
        "  def forward(self, x):\n",
        "    # Make sure X is the right set of sliding window dimensions\n",
        "    x = einops.rearrange(x,\n",
        "                         's h w c -> s c h w')\n",
        "    # 1. Feed X timestep-wise through the embedding layer\n",
        "\n",
        "    x = self.encoder(x)\n",
        "\n",
        "    # print(x.shape)\n",
        "\n",
        "    # Save dimensions for reshaping later.\n",
        "    sequence_length = x.shape[0]\n",
        "    height = x.shape[1]\n",
        "    width = x.shape[2]\n",
        "    channels = x.shape[3]\n",
        "\n",
        "    # 2. Flatten X before feeding into attention layer\n",
        "    x = x.reshape(sequence_length, -1)\n",
        "    x = self.linear(x)\n",
        "\n",
        "    # TODO: Test attention\n",
        "    \n",
        "    x = self.reverse_linear(x)\n",
        "\n",
        "    x = x.reshape(sequence_length, height, width, channels)\n",
        "    x = self.decoder(x)\n",
        "    x = einops.rearrange(x,\n",
        "                         's c h w -> s h w c')\n",
        "    return x[-1:]"
      ],
      "metadata": {
        "id": "luhkx89Xey28"
      },
      "execution_count": null,
      "outputs": []
    },
    {
      "cell_type": "code",
      "source": [
        "data = np.load(\"small_data_0.npy\")\n",
        "print(data.shape)"
      ],
      "metadata": {
        "colab": {
          "base_uri": "https://localhost:8080/"
        },
        "id": "H-pC--JykxFM",
        "outputId": "659f215a-5f88-4984-fe90-e5ca3d7bf21d"
      },
      "execution_count": null,
      "outputs": [
        {
          "output_type": "stream",
          "name": "stdout",
          "text": [
            "(2500, 9, 32, 32, 2)\n"
          ]
        }
      ]
    },
    {
      "cell_type": "code",
      "source": [
        "batch_size = 1\n",
        "\n",
        "train_x = torch.tensor(data[:, :data.shape[1] - 1]).float()\n",
        "train_y = torch.tensor(data[:, -1]).float()\n",
        "print(train_x.shape)\n",
        "print(train_y.shape)\n",
        "trainset = torch.utils.data.TensorDataset(train_x[0:len(train_x) // 5 * 4], train_y[0:len(train_x) // 5 * 4])\n",
        "trainloader = torch.utils.data.DataLoader(trainset, batch_size=batch_size,\n",
        "                                          shuffle=True, num_workers=2)\n",
        "\n",
        "testset = torch.utils.data.TensorDataset(train_x[len(train_x) // 5 * 4:], train_y[len(train_x) // 5 * 4:])\n",
        "testloader = torch.utils.data.DataLoader(testset, batch_size=batch_size,\n",
        "                                          shuffle=True, num_workers=2)\n"
      ],
      "metadata": {
        "colab": {
          "base_uri": "https://localhost:8080/"
        },
        "id": "L5p4uLSdlz6d",
        "outputId": "bd29a129-8ce7-4c2d-d947-eae9555d3844"
      },
      "execution_count": null,
      "outputs": [
        {
          "output_type": "stream",
          "name": "stdout",
          "text": [
            "torch.Size([2500, 8, 32, 32, 2])\n",
            "torch.Size([2500, 32, 32, 2])\n"
          ]
        }
      ]
    },
    {
      "cell_type": "code",
      "source": [
        "# Visualize target and ground truth frames\n",
        "def compare_frames(f1, f2):\n",
        "    fig, axes = plt.subplots(3, 2)\n",
        "    f_10 = f1[:, :, 0]\n",
        "    f_11 = f1[:, :, 1]\n",
        "    f_20 = f2[:, :, 0]\n",
        "    f_21 = f2[:, :, 1]\n",
        "\n",
        "    axes[0, 0].imshow(f_10, cmap='inferno')\n",
        "    axes[1, 0].imshow(f_11, cmap='inferno')\n",
        "    axes[0, 1].imshow(f_20, cmap='inferno')\n",
        "    axes[1, 1].imshow(f_21, cmap='inferno')\n",
        "\n",
        "    axes[2, 0].imshow(np.power(f_10, 2) + np.power(f_11, 2), cmap='inferno')\n",
        "    axes[2, 1].imshow(np.power(f_20, 2) + np.power(f_21, 2), cmap='inferno')\n",
        "\n"
      ],
      "metadata": {
        "id": "JRwp9E4b40xX"
      },
      "execution_count": null,
      "outputs": []
    },
    {
      "cell_type": "code",
      "source": [
        "model = SchrodingerModule()\n",
        "# Move the model to GPU\n",
        "model.to(torch_device)\n",
        "\n",
        "# You may want to tune these hyperparameters to get better performance\n",
        "optimizer = optim.AdamW(model.parameters(), lr=1e-6, betas=(0.9, 0.95), weight_decay=0.0)\n",
        "\n",
        "total_steps = 0\n",
        "num_epochs = 2\n",
        "train_logfreq = 100\n",
        "\n",
        "losses = []\n",
        "all_val_loss = []\n",
        "best_val_loss = float('inf')\n",
        "\n",
        "predicted_frame = None\n",
        "true_frame = None\n",
        "difference_frame = None\n",
        "\n",
        "epoch_iterator = trange(num_epochs)\n",
        "for epoch in epoch_iterator:\n",
        "    # Train\n",
        "    data_iterator = tqdm(trainloader)\n",
        "    for x, y in data_iterator:\n",
        "        total_steps += 1\n",
        "        x = x.to(torch_device)\n",
        "        y = y.to(torch_device)\n",
        "        prediction = model(x[0])\n",
        "        # print(prediction.shape)\n",
        "        # print(y.shape)\n",
        "        loss = nn.MSELoss()(prediction, y)\n",
        "\n",
        "        optimizer.zero_grad()\n",
        "        loss.backward()\n",
        "        optimizer.step()\n",
        "\n",
        "        data_iterator.set_postfix(loss=loss.item())\n",
        "        if total_steps % train_logfreq == 0:\n",
        "            losses.append(loss.item())\n",
        "\n",
        "    # Validation\n",
        "    val_loss = []\n",
        "    model.eval()\n",
        "    i = 0\n",
        "    for x, y in testloader:\n",
        "        x, y = x.to(torch_device), y.to(torch_device)\n",
        "        with torch.no_grad():\n",
        "          loss = nn.MSELoss()(prediction, y)\n",
        "          predicted_frame = prediction\n",
        "          true_frame = y\n",
        "          difference_frame = y - prediction\n",
        "          if i % 100 == 0:\n",
        "            compare_frames(prediction.cpu().detach().numpy()[0], true_frame.cpu().detach().numpy()[0]) # Dataviz\n",
        "          val_loss.append(loss.item())\n",
        "        i += 1\n",
        "    model.train()\n",
        "\n",
        "    all_val_loss.append(np.mean(val_loss))\n",
        "    # Save best model\n",
        "    if np.mean(val_loss) < best_val_loss:\n",
        "        best_val_loss = np.mean(val_loss)\n",
        "\n",
        "    epoch_iterator.set_postfix(val_loss=np.mean(val_loss), best_val_loss=best_val_loss)\n",
        "\n",
        "    # Periodically save model\n",
        "    torch.save(model.state_dict(), os.path.join(root_folder, \"trained_conv_encoder.pt\"))\n"
      ],
      "metadata": {
        "id": "6qor23L3fK1Q",
        "colab": {
          "base_uri": "https://localhost:8080/",
          "height": 1000,
          "referenced_widgets": [
            "7a3c82ffd882485baac5301914989f65",
            "f347e4fe51354d3da642e8b18e7addfd",
            "ec6a0560ea1d44b4aabf1c59fc0eb4f1",
            "6f73ac27118a4db4bd00d9971e5f704c",
            "a908749921a04e69a5bce2841a770ad2",
            "a44df59ab14143ff96e0a44659b15cbd",
            "088b5e5dc65f483db04f655e48e4e913",
            "4c48224096f54a2c9f39b01f2a03eed9",
            "841f5906aa81470998fee5473642071e",
            "bc7b8416d8e748ec99a67406220cb066",
            "9ac7a452a87c42a78a74cd153b58d77b",
            "73064519d09146fb992610f03c26217f",
            "b636d41788ea4a9b9bad65b65aca158f",
            "8373825dad49496a9ebde3e8a7d07adf",
            "2862be53d99342e6b35d4a1ec6e963e8",
            "8c1680ccd8444c8da735154aae7b0cf9",
            "27bc0573f00243c2982aeb0cc0516f07",
            "2d8647f3ad314a4fa867337dc411a878",
            "1bf8b83f44f64a779bb2eb69f3887de2",
            "21435e1ee0f841c09511d0d7736539fa",
            "ef2381cf79b242d2a04f2ed1c4f8a18c",
            "a9562d20da4f4ec59897b5ab6c718d58",
            "8f0d3742c99d4a098d3c3ef04a4a8fbd",
            "3d8a6ecf0ce24fc4b312aed4e7f7d096",
            "fd3958a0b36e42d78775cb3ac5c3d35a",
            "af325f55a2c44f1c8b1c42f1ba0e4103",
            "423d4ad0a2064c7fbda152887c1b6624",
            "3fb38d113253450686f8f621844c8790",
            "40d2981e17cb456f9ca83b78481dddf8",
            "d4548b9786a74389934eb6ab818074aa",
            "671a73ddcd404cc1bd68b5045a7ff7d7",
            "8e884c77ac97494fa3634d635e005992",
            "7e3b490a88df4b3fb3e965bffd141aad"
          ]
        },
        "outputId": "359f4c8e-2046-4b85-9c5a-b023986df79f"
      },
      "execution_count": null,
      "outputs": [
        {
          "output_type": "display_data",
          "data": {
            "text/plain": [
              "  0%|          | 0/2 [00:00<?, ?it/s]"
            ],
            "application/vnd.jupyter.widget-view+json": {
              "version_major": 2,
              "version_minor": 0,
              "model_id": "7a3c82ffd882485baac5301914989f65"
            }
          },
          "metadata": {}
        },
        {
          "output_type": "display_data",
          "data": {
            "text/plain": [
              "  0%|          | 0/2000 [00:00<?, ?it/s]"
            ],
            "application/vnd.jupyter.widget-view+json": {
              "version_major": 2,
              "version_minor": 0,
              "model_id": "73064519d09146fb992610f03c26217f"
            }
          },
          "metadata": {}
        },
        {
          "output_type": "display_data",
          "data": {
            "text/plain": [
              "  0%|          | 0/2000 [00:00<?, ?it/s]"
            ],
            "application/vnd.jupyter.widget-view+json": {
              "version_major": 2,
              "version_minor": 0,
              "model_id": "8f0d3742c99d4a098d3c3ef04a4a8fbd"
            }
          },
          "metadata": {}
        },
        {
          "output_type": "display_data",
          "data": {
            "text/plain": [
              "<Figure size 432x288 with 6 Axes>"
            ],
            "image/png": "[encoded data removed]"
          },
          "metadata": {
            "needs_background": "light"
          }
        },
        {
          "output_type": "display_data",
          "data": {
            "text/plain": [
              "<Figure size 432x288 with 6 Axes>"
            ],
            "image/png": "[encoded data removed]"
          },
          "metadata": {
            "needs_background": "light"
          }
        },
        {
          "output_type": "display_data",
          "data": {
            "text/plain": [
              "<Figure size 432x288 with 6 Axes>"
            ],
            "image/png": "[encoded data removed]"
          },
          "metadata": {
            "needs_background": "light"
          }
        },
        {
          "output_type": "display_data",
          "data": {
            "text/plain": [
              "<Figure size 432x288 with 6 Axes>"
            ],
            "image/png": "[encoded data removed]"
          },
          "metadata": {
            "needs_background": "light"
          }
        },
        {
          "output_type": "display_data",
          "data": {
            "text/plain": [
              "<Figure size 432x288 with 6 Axes>"
            ],
            "image/png": "[encoded data removed]"
          },
          "metadata": {
            "needs_background": "light"
          }
        },
        {
          "output_type": "display_data",
          "data": {
            "text/plain": [
              "<Figure size 432x288 with 6 Axes>"
            ],
            "image/png": "[encoded data removed]"
          },
          "metadata": {
            "needs_background": "light"
          }
        },
        {
          "output_type": "display_data",
          "data": {
            "text/plain": [
              "<Figure size 432x288 with 6 Axes>"
            ],
            "image/png": "[encoded data removed]"
          },
          "metadata": {
            "needs_background": "light"
          }
        },
        {
          "output_type": "display_data",
          "data": {
            "text/plain": [
              "<Figure size 432x288 with 6 Axes>"
            ],
            "image/png": "[encoded data removed]"
          },
          "metadata": {
            "needs_background": "light"
          }
        },
        {
          "output_type": "display_data",
          "data": {
            "text/plain": [
              "<Figure size 432x288 with 6 Axes>"
            ],
            "image/png": "[encoded data removed]"
          },
          "metadata": {
            "needs_background": "light"
          }
        },
        {
          "output_type": "display_data",
          "data": {
            "text/plain": [
              "<Figure size 432x288 with 6 Axes>"
            ],
            "image/png": "[encoded data removed]"
          },
          "metadata": {
            "needs_background": "light"
          }
        }
      ]
    },
    {
      "cell_type": "code",
      "source": [
        "from matplotlib import pyplot as plt\n",
        "plt.plot(losses)\n",
        "plt.title('Squared diff in state prediction vs actual state')\n",
        "plt.ylabel('Loss')\n",
        "plt.xlabel('Training steps (hundreds)')\n",
        "plt.show()\n",
        "plt.plot(all_val_loss)\n",
        "plt.title('Validation loss')\n",
        "plt.ylabel('Loss')\n",
        "plt.xlabel('epochs (2000 training steps)')\n"
      ],
      "metadata": {
        "colab": {
          "base_uri": "https://localhost:8080/",
          "height": 590
        },
        "id": "StLJvUj0q8Zt",
        "outputId": "00629813-8ca9-4665-d18d-77f0f5a4089d"
      },
      "execution_count": null,
      "outputs": [
        {
          "output_type": "display_data",
          "data": {
            "text/plain": [
              "<Figure size 432x288 with 1 Axes>"
            ],
            "image/png": "[encoded data removed]"
          },
          "metadata": {
            "needs_background": "light"
          }
        },
        {
          "output_type": "execute_result",
          "data": {
            "text/plain": [
              "Text(0.5, 0, 'epochs (2000 training steps)')"
            ]
          },
          "metadata": {},
          "execution_count": 11
        },
        {
          "output_type": "display_data",
          "data": {
            "text/plain": [
              "<Figure size 432x288 with 1 Axes>"
            ],
            "image/png": "[encoded data removed]"
          },
          "metadata": {
            "needs_background": "light"
          }
        }
      ]
    },
    {
      "cell_type": "markdown",
      "source": [
        "# RNN sequence-to-sequence model with LSTM implementation\n",
        "For every batch, we can try to use the first 20 frames to predict the next 20 frames of the simulation. At first glance, because we are not trying to make predictions many frames into the future, an LSTM seems like a viable fit for the project because it is below 100 timesteps. However, there exists pitfalls with this approach specifically described in the project write-up: The starting potential function is very important and even with an LSTM, a lot of information could be lost and first few steps of the model (which are very crucial) may not learn much at all."
      ],
      "metadata": {
        "id": "Ye86d7D9p1uv"
      }
    },
    {
      "cell_type": "code",
      "source": [
        "# Hyperparameters\n",
        "input_size_encoder = 128 * 128\n",
        "input_size_decoder = 128 * 128\n",
        "encoder_embedding_size = 300\n",
        "encoder_embedding_size = 300\n",
        "hidden_size = 1024\n",
        "num_layers = 1\n",
        "enc_dropout = 0.0\n",
        "dec_dropout = 0.0\n",
        "\n",
        "batch_size = 100\n",
        "num_epochs = 1\n",
        "learning_rate = 1e-4\n",
        "\n",
        "class Encoder(nn.Module):\n",
        "    def __init__(self, input_dim, hidden_dim, embbed_dim, num_layers=1):\n",
        "        super(Encoder, self).__init__()\n",
        "\n",
        "        # set the encoder input dimesion , embbed dimesion, hidden dimesion, and number of layers \n",
        "        self.input_dim = input_dim\n",
        "        self.embbed_dim = embbed_dim\n",
        "        self.hidden_dim = hidden_dim\n",
        "        self.num_layers = num_layers\n",
        "\n",
        "        # initialize the embedding layer with input and embbed dimention\n",
        "        self.embedding = nn.Embedding(input_dim, self.embbed_dim)\n",
        "\n",
        "        # intialize the LSTM to take the input dimetion of embbed, and output dimention of hidden and\n",
        "        # set the number of LSTM layers\n",
        "        self.lstm = nn.LSTM(self.embbed_dim, self.hidden_dim, num_layers=self.num_layers)\n",
        "              \n",
        "    def forward(self, src):\n",
        "        embedded = self.embedding(src).view(1,1,-1)\n",
        "        outputs, hidden = self.lstm(embedded)\n",
        "        return outputs, hidden\n",
        "\n",
        "class Decoder(nn.Module):\n",
        "    def __init__(self, output_dim, hidden_dim, embbed_dim, num_layers):\n",
        "        super(Decoder, self).__init__()\n",
        "\n",
        "        # set the encoder output dimension, embed dimension, hidden dimension, and number of layers \n",
        "        self.embbed_dim = embbed_dim\n",
        "        self.hidden_dim = hidden_dim\n",
        "        self.output_dim = output_dim\n",
        "        self.num_layers = num_layers\n",
        "\n",
        "        # initialize every layer with the appropriate dimension. For the decoder layer, it will consist of an embedding, lstm, a Linear layer and a Log softmax activation function.\n",
        "        self.embedding = nn.Embedding(output_dim, self.embbed_dim)\n",
        "        self.lstm = nn.LSTM(self.embbed_dim, self.hidden_dim, num_layers=self.num_layers)\n",
        "        self.out = nn.Linear(self.hidden_dim, output_dim)\n",
        "        self.softmax = nn.LogSoftmax(dim=1)\n",
        "      \n",
        "    def forward(self, input, hidden):\n",
        "\n",
        "        # reshape the input to (1, batch_size)\n",
        "        input = input.view(1, -1)\n",
        "        embedded = F.relu(self.embedding(input))\n",
        "        output, hidden = self.lstm(embedded, hidden)       \n",
        "        prediction = self.softmax(self.out(output[0]))\n",
        "      \n",
        "        return prediction, hidden"
      ],
      "metadata": {
        "id": "ZjO4ycSy_hdX"
      },
      "execution_count": null,
      "outputs": []
    },
    {
      "cell_type": "code",
      "source": [
        "class Seq2Seq(nn.Module):\n",
        "    def __init__(self, encoder, decoder, device):\n",
        "        super().__init__()\n",
        "      \n",
        "        # initialize the encoder and decoder\n",
        "        self.encoder = encoder\n",
        "        self.decoder = decoder\n",
        "        self.device = device\n",
        "     \n",
        "    def forward(self, source, target, teacher_forcing_ratio=0.5):\n",
        "\n",
        "        input_length = source.size(0) # get the input length (number of frames)\n",
        "        batch_size = target.shape[1] \n",
        "        target_length = target.shape[0]\n",
        "        vocab_size = self.decoder.output_dim\n",
        "      \n",
        "        # initialize a variable to hold the predicted outputs\n",
        "        outputs = torch.zeros(target_length, batch_size, vocab_size).to(self.device)\n",
        "\n",
        "        # encode every frame in the video\n",
        "        for i in range(input_length):\n",
        "            encoder_output, encoder_hidden = self.encoder(source[i])\n",
        "\n",
        "        # use the encoder’s hidden layer as the decoder hidden\n",
        "        decoder_hidden = encoder_hidden.to(device)\n",
        "  \n",
        "        # add a token before the first predicted word\n",
        "        decoder_input = torch.tensor([SOS_token], device=device)  # SOS\n",
        "\n",
        "        # topk is used to get the top K value over a list\n",
        "        # predict the output word from the current target word. If we enable the teaching force,  then the #next decoder input is the next word, else, use the decoder output highest value. \n",
        "\n",
        "        for t in range(target_length):   \n",
        "            decoder_output, decoder_hidden = self.decoder(decoder_input, decoder_hidden)\n",
        "            outputs[t] = decoder_output\n",
        "            teacher_force = random.random() < teacher_forcing_ratio\n",
        "            topv, topi = decoder_output.topk(1)\n",
        "            input = (target[t] if teacher_force else topi)\n",
        "            if(teacher_force == False and input.item() == EOS_token):\n",
        "                break\n",
        "        return outputs"
      ],
      "metadata": {
        "id": "pQV_tV3WHhPD",
        "colab": {
          "base_uri": "https://localhost:8080/",
          "height": 357
        },
        "outputId": "be4cbb58-0d0d-4c24-ab30-ab711a40e56d"
      },
      "execution_count": null,
      "outputs": [
        {
          "output_type": "error",
          "ename": "NameError",
          "evalue": "ignored",
          "traceback": [
            "\u001b[0;31m---------------------------------------------------------------------------\u001b[0m",
            "\u001b[0;31mNameError\u001b[0m                                 Traceback (most recent call last)",
            "\u001b[0;32m<ipython-input-11-79daa540c57a>\u001b[0m in \u001b[0;36m<module>\u001b[0;34m\u001b[0m\n\u001b[0;32m----> 1\u001b[0;31m \u001b[0;32mclass\u001b[0m \u001b[0mSeq2Seq\u001b[0m\u001b[0;34m(\u001b[0m\u001b[0mnn\u001b[0m\u001b[0;34m.\u001b[0m\u001b[0mModule\u001b[0m\u001b[0;34m)\u001b[0m\u001b[0;34m:\u001b[0m\u001b[0;34m\u001b[0m\u001b[0;34m\u001b[0m\u001b[0m\n\u001b[0m\u001b[1;32m      2\u001b[0m     \u001b[0;32mdef\u001b[0m \u001b[0m__init__\u001b[0m\u001b[0;34m(\u001b[0m\u001b[0mself\u001b[0m\u001b[0;34m,\u001b[0m \u001b[0mencoder\u001b[0m\u001b[0;34m,\u001b[0m \u001b[0mdecoder\u001b[0m\u001b[0;34m,\u001b[0m \u001b[0mdevice\u001b[0m\u001b[0;34m,\u001b[0m \u001b[0mMAX_LENGTH\u001b[0m\u001b[0;34m=\u001b[0m\u001b[0mMAX_LENGTH\u001b[0m\u001b[0;34m)\u001b[0m\u001b[0;34m:\u001b[0m\u001b[0;34m\u001b[0m\u001b[0;34m\u001b[0m\u001b[0m\n\u001b[1;32m      3\u001b[0m         \u001b[0msuper\u001b[0m\u001b[0;34m(\u001b[0m\u001b[0;34m)\u001b[0m\u001b[0;34m.\u001b[0m\u001b[0m__init__\u001b[0m\u001b[0;34m(\u001b[0m\u001b[0;34m)\u001b[0m\u001b[0;34m\u001b[0m\u001b[0;34m\u001b[0m\u001b[0m\n\u001b[1;32m      4\u001b[0m \u001b[0;34m\u001b[0m\u001b[0m\n\u001b[1;32m      5\u001b[0m         \u001b[0;31m#initialize the encoder and decoder\u001b[0m\u001b[0;34m\u001b[0m\u001b[0;34m\u001b[0m\u001b[0;34m\u001b[0m\u001b[0m\n",
            "\u001b[0;32m<ipython-input-11-79daa540c57a>\u001b[0m in \u001b[0;36mSeq2Seq\u001b[0;34m()\u001b[0m\n\u001b[1;32m      1\u001b[0m \u001b[0;32mclass\u001b[0m \u001b[0mSeq2Seq\u001b[0m\u001b[0;34m(\u001b[0m\u001b[0mnn\u001b[0m\u001b[0;34m.\u001b[0m\u001b[0mModule\u001b[0m\u001b[0;34m)\u001b[0m\u001b[0;34m:\u001b[0m\u001b[0;34m\u001b[0m\u001b[0;34m\u001b[0m\u001b[0m\n\u001b[0;32m----> 2\u001b[0;31m     \u001b[0;32mdef\u001b[0m \u001b[0m__init__\u001b[0m\u001b[0;34m(\u001b[0m\u001b[0mself\u001b[0m\u001b[0;34m,\u001b[0m \u001b[0mencoder\u001b[0m\u001b[0;34m,\u001b[0m \u001b[0mdecoder\u001b[0m\u001b[0;34m,\u001b[0m \u001b[0mdevice\u001b[0m\u001b[0;34m,\u001b[0m \u001b[0mMAX_LENGTH\u001b[0m\u001b[0;34m=\u001b[0m\u001b[0mMAX_LENGTH\u001b[0m\u001b[0;34m)\u001b[0m\u001b[0;34m:\u001b[0m\u001b[0;34m\u001b[0m\u001b[0;34m\u001b[0m\u001b[0m\n\u001b[0m\u001b[1;32m      3\u001b[0m         \u001b[0msuper\u001b[0m\u001b[0;34m(\u001b[0m\u001b[0;34m)\u001b[0m\u001b[0;34m.\u001b[0m\u001b[0m__init__\u001b[0m\u001b[0;34m(\u001b[0m\u001b[0;34m)\u001b[0m\u001b[0;34m\u001b[0m\u001b[0;34m\u001b[0m\u001b[0m\n\u001b[1;32m      4\u001b[0m \u001b[0;34m\u001b[0m\u001b[0m\n\u001b[1;32m      5\u001b[0m         \u001b[0;31m#initialize the encoder and decoder\u001b[0m\u001b[0;34m\u001b[0m\u001b[0;34m\u001b[0m\u001b[0;34m\u001b[0m\u001b[0m\n",
            "\u001b[0;31mNameError\u001b[0m: name 'MAX_LENGTH' is not defined"
          ]
        }
      ]
    },
    {
      "cell_type": "code",
      "source": [
        "# Training the Seq2Seq\n",
        "optimizer = optim.Adam(seq2seq.parameters())\n",
        "criterion = nn.MSELoss()\n",
        "\n",
        "def trainSeq2Seq(seq2seq, iterator, optimizer, criterion):\n",
        "    seq2seq.train()\n",
        "    epoch_loss = 0\n",
        "    for batchIndex in range(10):\n",
        "        # data = np.load(\"big_data_5.npy\")\n",
        "        batchName = \"big_data_\" + str(batchIndex) + \".npy\"\n",
        "        currentBatch = np.load(batchName)\n",
        "        inputs = currentBatch[:, :21, :, :, :]\n",
        "        outputs = currentBatch[:, 21:41, :, :, :]\n",
        "        predictions = seq2seq(currentBatch)\n",
        "        loss = criterion(output, predictions)\n",
        "        loss.backward()\n",
        "        optimizer.step()\n",
        "    return epoch_loss / (i + 1)"
      ],
      "metadata": {
        "id": "7qVplxB_W4XY"
      },
      "execution_count": null,
      "outputs": []
    },
    {
      "cell_type": "code",
      "source": [],
      "metadata": {
        "id": "mDyweSwQqGe0"
      },
      "execution_count": null,
      "outputs": []
    }
  ]
}