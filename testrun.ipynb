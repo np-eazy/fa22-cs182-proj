{
  "cells": [
    {
      "cell_type": "markdown",
      "metadata": {},
      "source": [
        "Run through this iPython notebook to ensure that we can copy-paste the libraries directly onto the colab."
      ]
    },
    {
      "cell_type": "code",
      "execution_count": 2,
      "metadata": {
        "colab": {
          "base_uri": "https://localhost:8080/",
          "height": 329
        },
        "id": "Vp6ej9JfHPix",
        "outputId": "adaf5b18-f563-4885-e8dc-1cef9b84ad8d"
      },
      "outputs": [],
      "source": [
        "from analytics import *\n",
        "from datasource import *\n",
        "from model import network\n",
        "\n",
        "import numpy as np\n",
        "import matplotlib as pyplot"
      ]
    },
    {
      "cell_type": "code",
      "execution_count": null,
      "metadata": {},
      "outputs": [],
      "source": [
        "network = network.Network({})\n",
        "network.trainNetwork([], {})\n",
        "network.testNetwork([], {})\n"
      ]
    },
    {
      "cell_type": "code",
      "execution_count": null,
      "metadata": {},
      "outputs": [],
      "source": []
    }
  ],
  "metadata": {
    "colab": {
      "provenance": []
    },
    "kernelspec": {
      "display_name": "Python 3.9.7 64-bit ('base')",
      "language": "python",
      "name": "python3"
    },
    "language_info": {
      "codemirror_mode": {
        "name": "ipython",
        "version": 3
      },
      "file_extension": ".py",
      "mimetype": "text/x-python",
      "name": "python",
      "nbconvert_exporter": "python",
      "pygments_lexer": "ipython3",
      "version": "3.9.7"
    },
    "vscode": {
      "interpreter": {
        "hash": "e0ce8f86f711cfdf4604549428ce31942aca647cb3e4b97636e83e11c8079423"
      }
    }
  },
  "nbformat": 4,
  "nbformat_minor": 0
}
