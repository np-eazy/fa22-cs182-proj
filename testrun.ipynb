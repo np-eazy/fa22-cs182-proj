{
  "cells": [
    {
      "cell_type": "markdown",
      "metadata": {},
      "source": [
        "Run through this iPython notebook to ensure that we can copy-paste the libraries directly onto the colab."
      ]
    },
    {
      "cell_type": "code",
      "execution_count": 8,
      "metadata": {
        "colab": {
          "base_uri": "https://localhost:8080/",
          "height": 329
        },
        "id": "Vp6ej9JfHPix",
        "outputId": "adaf5b18-f563-4885-e8dc-1cef9b84ad8d"
      },
      "outputs": [],
      "source": [
        "import numpy as np\n",
        "import matplotlib as pyplot\n",
        "\n",
        "from datasource import simulator\n",
        "from datasource import stage\n",
        "from model import network\n",
        "from analytics import *"
      ]
    },
    {
      "cell_type": "markdown",
      "metadata": {},
      "source": [
        "Examples and tests of creating particle wavefunctions, potentials, and simulations. "
      ]
    },
    {
      "cell_type": "code",
      "execution_count": 9,
      "metadata": {},
      "outputs": [
        {
          "name": "stdout",
          "output_type": "stream",
          "text": [
            "[array([[-0.151+0.199j,  0.043-0.246j, -0.021-0.249j,  0.034-0.248j],\n",
            "       [-0.208-0.138j,  0.183-0.171j,  0.222-0.115j,  0.247+0.038j],\n",
            "       [ 0.08 -0.237j, -0.088-0.234j, -0.201+0.149j, -0.078-0.237j],\n",
            "       [ 0.102-0.228j,  0.179-0.174j, -0.046-0.246j, -0.174-0.18j ]]), array([[1., 0., 0., 0.],\n",
            "       [0., 0., 0., 0.],\n",
            "       [0., 0., 0., 0.],\n",
            "       [0., 0., 0., 0.]])]\n",
            "[array([[-0.15114437+0.19913658j,  0.04324765-0.24623087j,\n",
            "        -0.02091873-0.24912328j,  0.03445469-0.24761437j],\n",
            "       [-0.20842807-0.13804978j,  0.18257639-0.17078016j,\n",
            "         0.22190738-0.11513955j,  0.24701904+0.0384915j ],\n",
            "       [ 0.07976941-0.23693215j, -0.0876246 -0.23414083j,\n",
            "        -0.20103624+0.14860831j, -0.07818485-0.23745974j],\n",
            "       [ 0.10185551-0.22831j   ,  0.17938337-0.17413101j,\n",
            "        -0.04595892-0.24573925j, -0.17394281-0.17956586j]]), array([[1., 0., 0., 0.],\n",
            "       [0., 0., 0., 0.],\n",
            "       [0., 0., 0., 0.],\n",
            "       [0., 0., 0., 0.]]), array([[0., 0., 0., 0.],\n",
            "       [0., 0., 0., 0.],\n",
            "       [0., 0., 0., 0.],\n",
            "       [0., 0., 0., 0.]]), array([[0., 0., 0., 0.],\n",
            "       [0., 0., 0., 0.],\n",
            "       [0., 0., 0., 0.],\n",
            "       [0., 0., 0., 0.]]), array([[0., 0., 0., 0.],\n",
            "       [0., 0., 0., 0.],\n",
            "       [0., 0., 0., 0.],\n",
            "       [0., 0., 0., 0.]]), array([[0., 0., 0., 0.],\n",
            "       [0., 0., 0., 0.],\n",
            "       [0., 0., 0., 0.],\n",
            "       [0., 0., 0., 0.]]), array([[0., 0., 0., 0.],\n",
            "       [0., 0., 0., 0.],\n",
            "       [0., 0., 0., 0.],\n",
            "       [0., 0., 0., 0.]]), array([[0., 0., 0., 0.],\n",
            "       [0., 0., 0., 0.],\n",
            "       [0., 0., 0., 0.],\n",
            "       [0., 0., 0., 0.]]), array([[0., 0., 0., 0.],\n",
            "       [0., 0., 0., 0.],\n",
            "       [0., 0., 0., 0.],\n",
            "       [0., 0., 0., 0.]])]\n"
          ]
        },
        {
          "ename": "AttributeError",
          "evalue": "'NoneType' object has no attribute 'append'",
          "output_type": "error",
          "traceback": [
            "\u001b[0;31m---------------------------------------------------------------------------\u001b[0m",
            "\u001b[0;31mAttributeError\u001b[0m                            Traceback (most recent call last)",
            "\u001b[0;32m/var/folders/w4/qqq1yjfd31n1ppwhj_fsshyr0000gn/T/ipykernel_55698/2041604702.py\u001b[0m in \u001b[0;36m<module>\u001b[0;34m\u001b[0m\n\u001b[1;32m     32\u001b[0m }\n\u001b[1;32m     33\u001b[0m \u001b[0;34m\u001b[0m\u001b[0m\n\u001b[0;32m---> 34\u001b[0;31m \u001b[0msimulator\u001b[0m\u001b[0;34m.\u001b[0m\u001b[0mgenerate_simulation\u001b[0m\u001b[0;34m(\u001b[0m\u001b[0mstage_test1\u001b[0m\u001b[0;34m,\u001b[0m \u001b[0mmodel_props\u001b[0m\u001b[0;34m,\u001b[0m \u001b[0mphysical_props\u001b[0m\u001b[0;34m)\u001b[0m\u001b[0;34m\u001b[0m\u001b[0;34m\u001b[0m\u001b[0m\n\u001b[0m\u001b[1;32m     35\u001b[0m \u001b[0;31m#assert stage.load_simulation(\"stage_test1\") == stage_test1\u001b[0m\u001b[0;34m\u001b[0m\u001b[0;34m\u001b[0m\u001b[0m\n",
            "\u001b[0;32m~/code/cs182/fa22-cs182-proj/datasource/simulator.py\u001b[0m in \u001b[0;36mgenerate_simulation\u001b[0;34m(stage, model_props, physical_props)\u001b[0m\n\u001b[1;32m     14\u001b[0m     \u001b[0mstage\u001b[0m\u001b[0;34m.\u001b[0m\u001b[0mset_physical_props\u001b[0m\u001b[0;34m(\u001b[0m\u001b[0mphysical_props\u001b[0m\u001b[0;34m)\u001b[0m\u001b[0;34m\u001b[0m\u001b[0;34m\u001b[0m\u001b[0m\n\u001b[1;32m     15\u001b[0m \u001b[0;34m\u001b[0m\u001b[0m\n\u001b[0;32m---> 16\u001b[0;31m     \u001b[0mstage\u001b[0m\u001b[0;34m.\u001b[0m\u001b[0madd\u001b[0m\u001b[0;34m(\u001b[0m\u001b[0mparticles\u001b[0m\u001b[0;34m)\u001b[0m\u001b[0;34m\u001b[0m\u001b[0;34m\u001b[0m\u001b[0m\n\u001b[0m\u001b[1;32m     17\u001b[0m     \u001b[0;32mfor\u001b[0m \u001b[0mt\u001b[0m \u001b[0;32min\u001b[0m \u001b[0mrange\u001b[0m\u001b[0;34m(\u001b[0m\u001b[0mtimesteps\u001b[0m\u001b[0;34m)\u001b[0m\u001b[0;34m:\u001b[0m\u001b[0;34m\u001b[0m\u001b[0;34m\u001b[0m\u001b[0m\n\u001b[1;32m     18\u001b[0m         \u001b[0mstage\u001b[0m\u001b[0;34m.\u001b[0m\u001b[0madd\u001b[0m\u001b[0;34m(\u001b[0m\u001b[0mcopy\u001b[0m\u001b[0;34m.\u001b[0m\u001b[0mdeepcopy\u001b[0m\u001b[0;34m(\u001b[0m\u001b[0mparticles\u001b[0m\u001b[0;34m)\u001b[0m\u001b[0;34m)\u001b[0m\u001b[0;34m\u001b[0m\u001b[0;34m\u001b[0m\u001b[0m\n",
            "\u001b[0;32m~/code/cs182/fa22-cs182-proj/datasource/stage.py\u001b[0m in \u001b[0;36madd\u001b[0;34m(self, nextstep)\u001b[0m\n\u001b[1;32m     24\u001b[0m     \u001b[0;32mdef\u001b[0m \u001b[0madd\u001b[0m\u001b[0;34m(\u001b[0m\u001b[0mself\u001b[0m\u001b[0;34m,\u001b[0m \u001b[0mnextstep\u001b[0m\u001b[0;34m)\u001b[0m\u001b[0;34m:\u001b[0m\u001b[0;34m\u001b[0m\u001b[0;34m\u001b[0m\u001b[0m\n\u001b[1;32m     25\u001b[0m         \u001b[0mself\u001b[0m\u001b[0;34m.\u001b[0m\u001b[0mdata\u001b[0m \u001b[0;34m+=\u001b[0m \u001b[0;34m[\u001b[0m\u001b[0mnextstep\u001b[0m\u001b[0;34m]\u001b[0m\u001b[0;34m\u001b[0m\u001b[0;34m\u001b[0m\u001b[0m\n\u001b[0;32m---> 26\u001b[0;31m         \u001b[0;31m# TODO: Here we should be implementing persistence/caching for large data\u001b[0m\u001b[0;34m\u001b[0m\u001b[0;34m\u001b[0m\u001b[0m\n\u001b[0m\u001b[1;32m     27\u001b[0m \u001b[0;34m\u001b[0m\u001b[0m\n\u001b[1;32m     28\u001b[0m     \u001b[0;32mdef\u001b[0m \u001b[0mreshape_for_network\u001b[0m\u001b[0;34m(\u001b[0m\u001b[0mself\u001b[0m\u001b[0;34m,\u001b[0m \u001b[0mprops\u001b[0m\u001b[0;34m)\u001b[0m\u001b[0;34m:\u001b[0m\u001b[0;34m\u001b[0m\u001b[0;34m\u001b[0m\u001b[0m\n",
            "\u001b[0;31mAttributeError\u001b[0m: 'NoneType' object has no attribute 'append'"
          ]
        }
      ],
      "source": [
        "# Information about the simulation's resolution, relevant to the model's complexity. \n",
        "d = 4                # Grid size\n",
        "max_particles = 10    # Number of particles to be accommodated by the network\n",
        "model_props = {\n",
        "    \"resolution\": (max_particles, d, d),\n",
        "    \"timesteps\": 10,\n",
        "}\n",
        "stage_test1 = stage.Stage(\"stage_test1\")\n",
        "\n",
        "# We start by creating a list of zero-vectors which represent nonexistent particles. Each particle shares the same (d, d).\n",
        "particles = [np.zeros((d, d)) for i in range(max_particles)]\n",
        "# We designate particle 0 as the potential; it is not a real particle but rather an external physical condition,\n",
        "# of where the \"walls\" and \"wells\" are. A completely-zero potential will represent empty, unobstructed space.\n",
        "particles[0] = np.zeros((d, d)) \n",
        "# Particle 1 is as random as a wavefunction gets; this is just toy data and physically wil never happen.\n",
        "particles[1] = np.sqrt(np.ones((d, d)) / (d * d)) # Create a wavefunction whose L2-norm equals 1\n",
        "particles[1] = particles[1] * np.exp(1j * np.random.normal(0, 1, (d, d))) # Add random complex phase to each position\n",
        "particles[1] = particles[1] * np.exp(1j * np.random.uniform(0, 6.28)) # Add random complex phase to entire wave\n",
        "# Create a wavefunction that is zero everywhere except one point: a \"collapsed\" wavefunction that will spread back out.\n",
        "particles[2] = np.zeros((d, d))\n",
        "particles[2][0, 0] = 1 \n",
        "# For this example we stop at two particles\n",
        "print([np.round(particle, 3) for particle in particles[1:3]])\n",
        "# TODO: Create functions in the datasource module to make these kinds of particles and convert to Pytorch tensors\n",
        "\n",
        "# Information about the simulation's resolution, used to create a physical simulation.\n",
        "physical_props = {\n",
        "    \"potential\": particles[0],\n",
        "    \"particles\": particles[1:],\n",
        "    \"delta_x\": 1e-12,   # The physical length of one pixel in meters\n",
        "    \"delta_t\": 1e-9,    # The physical time elapsed per datapoint in seconds      \n",
        "}\n",
        "\n",
        "simulator.generate_simulation(stage_test1, model_props, physical_props)\n",
        "#assert stage.load_simulation(\"stage_test1\") == stage_test1"
      ]
    },
    {
      "cell_type": "markdown",
      "metadata": {},
      "source": [
        "Examples and tests of reshaping/batching data and running it through networks."
      ]
    },
    {
      "cell_type": "code",
      "execution_count": null,
      "metadata": {},
      "outputs": [],
      "source": []
    }
  ],
  "metadata": {
    "colab": {
      "provenance": []
    },
    "kernelspec": {
      "display_name": "Python 3.9.7 64-bit ('base')",
      "language": "python",
      "name": "python3"
    },
    "language_info": {
      "codemirror_mode": {
        "name": "ipython",
        "version": 3
      },
      "file_extension": ".py",
      "mimetype": "text/x-python",
      "name": "python",
      "nbconvert_exporter": "python",
      "pygments_lexer": "ipython3",
      "version": "3.9.7"
    },
    "vscode": {
      "interpreter": {
        "hash": "e0ce8f86f711cfdf4604549428ce31942aca647cb3e4b97636e83e11c8079423"
      }
    }
  },
  "nbformat": 4,
  "nbformat_minor": 0
}
